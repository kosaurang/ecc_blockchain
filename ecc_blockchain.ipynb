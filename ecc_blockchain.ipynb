{
  "nbformat": 4,
  "nbformat_minor": 0,
  "metadata": {
    "colab": {
      "provenance": []
    },
    "kernelspec": {
      "name": "python3",
      "display_name": "Python 3"
    },
    "language_info": {
      "name": "python"
    }
  },
  "cells": [
    {
      "cell_type": "code",
      "source": [
        "!pip install cryptography\n",
        "!pip install paramiko"
      ],
      "metadata": {
        "colab": {
          "base_uri": "https://localhost:8080/"
        },
        "id": "btuEw9_MWm39",
        "outputId": "3c4e632d-a8f2-4962-df02-70acca382859"
      },
      "execution_count": null,
      "outputs": [
        {
          "output_type": "stream",
          "name": "stdout",
          "text": [
            "Looking in indexes: https://pypi.org/simple, https://us-python.pkg.dev/colab-wheels/public/simple/\n",
            "Collecting cryptography\n",
            "  Downloading cryptography-39.0.0-cp36-abi3-manylinux_2_28_x86_64.whl (4.2 MB)\n",
            "\u001b[2K     \u001b[90m━━━━━━━━━━━━━━━━━━━━━━━━━━━━━━━━━━━━━━━━\u001b[0m \u001b[32m4.2/4.2 MB\u001b[0m \u001b[31m51.6 MB/s\u001b[0m eta \u001b[36m0:00:00\u001b[0m\n",
            "\u001b[?25hRequirement already satisfied: cffi>=1.12 in /usr/local/lib/python3.8/dist-packages (from cryptography) (1.15.1)\n",
            "Requirement already satisfied: pycparser in /usr/local/lib/python3.8/dist-packages (from cffi>=1.12->cryptography) (2.21)\n",
            "Installing collected packages: cryptography\n",
            "Successfully installed cryptography-39.0.0\n",
            "Looking in indexes: https://pypi.org/simple, https://us-python.pkg.dev/colab-wheels/public/simple/\n",
            "Collecting paramiko\n",
            "  Downloading paramiko-3.0.0-py3-none-any.whl (210 kB)\n",
            "\u001b[2K     \u001b[90m━━━━━━━━━━━━━━━━━━━━━━━━━━━━━━━━━━━━━━━\u001b[0m \u001b[32m210.8/210.8 KB\u001b[0m \u001b[31m7.8 MB/s\u001b[0m eta \u001b[36m0:00:00\u001b[0m\n",
            "\u001b[?25hRequirement already satisfied: cryptography>=3.3 in /usr/local/lib/python3.8/dist-packages (from paramiko) (39.0.0)\n",
            "Collecting pynacl>=1.5\n",
            "  Downloading PyNaCl-1.5.0-cp36-abi3-manylinux_2_17_x86_64.manylinux2014_x86_64.manylinux_2_24_x86_64.whl (856 kB)\n",
            "\u001b[2K     \u001b[90m━━━━━━━━━━━━━━━━━━━━━━━━━━━━━━━━━━━━━━\u001b[0m \u001b[32m856.7/856.7 KB\u001b[0m \u001b[31m36.3 MB/s\u001b[0m eta \u001b[36m0:00:00\u001b[0m\n",
            "\u001b[?25hCollecting bcrypt>=3.2\n",
            "  Downloading bcrypt-4.0.1-cp36-abi3-manylinux_2_28_x86_64.whl (593 kB)\n",
            "\u001b[2K     \u001b[90m━━━━━━━━━━━━━━━━━━━━━━━━━━━━━━━━━━━━━━\u001b[0m \u001b[32m593.7/593.7 KB\u001b[0m \u001b[31m43.8 MB/s\u001b[0m eta \u001b[36m0:00:00\u001b[0m\n",
            "\u001b[?25hRequirement already satisfied: cffi>=1.12 in /usr/local/lib/python3.8/dist-packages (from cryptography>=3.3->paramiko) (1.15.1)\n",
            "Requirement already satisfied: pycparser in /usr/local/lib/python3.8/dist-packages (from cffi>=1.12->cryptography>=3.3->paramiko) (2.21)\n",
            "Installing collected packages: bcrypt, pynacl, paramiko\n",
            "Successfully installed bcrypt-4.0.1 paramiko-3.0.0 pynacl-1.5.0\n"
          ]
        }
      ]
    },
    {
      "cell_type": "code",
      "execution_count": null,
      "metadata": {
        "colab": {
          "base_uri": "https://localhost:8080/",
          "height": 235
        },
        "id": "W5We70c5V8Qw",
        "outputId": "a91da7dd-9235-49b7-b30a-e982c3d85705"
      },
      "outputs": [
        {
          "output_type": "error",
          "ename": "AttributeError",
          "evalue": "ignored",
          "traceback": [
            "\u001b[0;31m---------------------------------------------------------------------------\u001b[0m",
            "\u001b[0;31mAttributeError\u001b[0m                            Traceback (most recent call last)",
            "\u001b[0;32m<ipython-input-4-09c6576d7f71>\u001b[0m in \u001b[0;36m<module>\u001b[0;34m\u001b[0m\n\u001b[1;32m     35\u001b[0m \u001b[0;31m# Encrypt a message\u001b[0m\u001b[0;34m\u001b[0m\u001b[0;34m\u001b[0m\u001b[0;34m\u001b[0m\u001b[0m\n\u001b[1;32m     36\u001b[0m \u001b[0mmessage\u001b[0m \u001b[0;34m=\u001b[0m \u001b[0;34mb\"Hello, World!\"\u001b[0m\u001b[0;34m\u001b[0m\u001b[0;34m\u001b[0m\u001b[0m\n\u001b[0;32m---> 37\u001b[0;31m ciphertext = public_key.encrypt(\n\u001b[0m\u001b[1;32m     38\u001b[0m     \u001b[0mmessage\u001b[0m\u001b[0;34m,\u001b[0m\u001b[0;34m\u001b[0m\u001b[0;34m\u001b[0m\u001b[0m\n\u001b[1;32m     39\u001b[0m     ec.ECDSA(hashes.SHA256()))\n",
            "\u001b[0;31mAttributeError\u001b[0m: '_EllipticCurvePublicKey' object has no attribute 'encrypt'"
          ]
        }
      ],
      "source": [
        "from cryptography.hazmat.backends import default_backend\n",
        "from cryptography.hazmat.primitives import serialization\n",
        "from cryptography.hazmat.primitives.asymmetric import ec\n",
        "from cryptography.hazmat.primitives.kdf.hkdf import HKDF\n",
        "from cryptography.hazmat.primitives import hashes, hmac\n",
        "\n",
        "# Generate a new ECC private key\n",
        "private_key = ec.generate_private_key(ec.SECP384R1(), default_backend())\n",
        "\n",
        "# Serialize the private key\n",
        "private_key_bytes = private_key.private_bytes(\n",
        "    encoding=serialization.Encoding.PEM,\n",
        "    format=serialization.PrivateFormat.PKCS8,\n",
        "    encryption_algorithm=serialization.NoEncryption())\n",
        "\n",
        "# Deserialize the private key\n",
        "private_key = serialization.load_pem_private_key(\n",
        "    private_key_bytes,\n",
        "    password=None,\n",
        "    backend=default_backend())\n",
        "\n",
        "# Get the public key from the private key\n",
        "public_key = private_key.public_key()\n",
        "\n",
        "# Serialize the public key\n",
        "public_key_bytes = public_key.public_bytes(\n",
        "    encoding=serialization.Encoding.PEM,\n",
        "    format=serialization.PublicFormat.SubjectPublicKeyInfo)\n",
        "\n",
        "# Deserialize the public key\n",
        "public_key = serialization.load_pem_public_key(\n",
        "    public_key_bytes,\n",
        "    backend=default_backend())\n",
        "\n",
        "# Encrypt a message\n",
        "message = b\"Hello, World!\"\n",
        "ciphertext = public_key.encrypt(\n",
        "    message,\n",
        "    ec.ECDSA(hashes.SHA256()))\n",
        "\n",
        "# Decrypt the message\n",
        "plaintext = private_key.decrypt(\n",
        "    ciphertext,\n",
        "    ec.ECDSA(hashes.SHA256()))\n",
        "\n",
        "assert message == plaintext, \"Decrypted message does not match original\"\n"
      ]
    }
  ]
}